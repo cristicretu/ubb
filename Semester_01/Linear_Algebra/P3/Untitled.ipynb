{
 "cells": [
  {
   "cell_type": "code",
   "execution_count": 15,
   "id": "c33e87c5-86e5-44a7-b0c3-699bcc033ef0",
   "metadata": {},
   "outputs": [],
   "source": [
    "import numpy as np\n",
    "from itertools import combinations\n",
    "    "
   ]
  },
  {
   "cell_type": "code",
   "execution_count": 13,
   "id": "2bbb9457-f2d3-4c1b-8946-457578a58dd4",
   "metadata": {},
   "outputs": [],
   "source": [
    "\"\"\"\n",
    "We start with the non-zero vector u1 => I can have 2^n - 1 possibilities (-1 for the 0 vector)\n",
    "u2 = everything besides u1, and 0 vector => I can have 2^n - 2\n",
    "u3 = -||-, and also 0, u1, u2, u1 + u2 ...\n",
    "....\n",
    "....\n",
    "\"\"\"\n",
    "def compute_number_of_bases(n):\n",
    "    return np.prod([(2**n) - (2**i) for i in range(n)])"
   ]
  },
  {
   "cell_type": "code",
   "execution_count": 12,
   "id": "325d3231-3cb5-4776-84e4-47393d1d5e1d",
   "metadata": {},
   "outputs": [
    {
     "name": "stdout",
     "output_type": "stream",
     "text": [
      "6\n",
      "168\n",
      "20160\n",
      "9999360\n"
     ]
    }
   ],
   "source": [
    "print(compute_number_of_bases(2))\n",
    "print(compute_number_of_bases(3))\n",
    "print(compute_number_of_bases(4))\n",
    "print(compute_number_of_bases(5))"
   ]
  },
  {
   "cell_type": "code",
   "execution_count": 14,
   "id": "a6cb067a-4120-4dd6-8d64-97c8566a4a32",
   "metadata": {},
   "outputs": [],
   "source": [
    "def binary_det(matrix):\n",
    "    return int(round(np.linalg.det(matrix))) & 1"
   ]
  },
  {
   "cell_type": "code",
   "execution_count": 17,
   "id": "b34ae521-9b88-4a9d-a170-2ea1202d1e7d",
   "metadata": {},
   "outputs": [],
   "source": [
    "# Function to generate all binary vectors of length n\n",
    "def generate_binary_vectors(n):\n",
    "    return [list(np.binary_repr(i, width=n)) for i in range(1, 2**n)]"
   ]
  },
  {
   "cell_type": "code",
   "execution_count": 19,
   "id": "63c6971e-021c-47f3-a542-0b5675fa3349",
   "metadata": {},
   "outputs": [],
   "source": [
    "def find_bases(vectors, n):\n",
    "    for combination in combinations(vectors, n):\n",
    "        mat = np.array(combination, dtype=int)\n",
    "        if binary_det(mat) == 1:\n",
    "            print(str(tuple(map(tuple, mat))) + '\\n')"
   ]
  },
  {
   "cell_type": "code",
   "execution_count": 22,
   "id": "f1d339d2-702b-4cb2-b197-d66863c22ef4",
   "metadata": {},
   "outputs": [
    {
     "name": "stdout",
     "output_type": "stream",
     "text": [
      "((0, 0, 1), (0, 1, 0), (1, 0, 0))\n",
      "\n",
      "((0, 0, 1), (0, 1, 0), (1, 0, 1))\n",
      "\n",
      "((0, 0, 1), (0, 1, 0), (1, 1, 0))\n",
      "\n",
      "((0, 0, 1), (0, 1, 0), (1, 1, 1))\n",
      "\n",
      "((0, 0, 1), (0, 1, 1), (1, 0, 0))\n",
      "\n",
      "((0, 0, 1), (0, 1, 1), (1, 0, 1))\n",
      "\n",
      "((0, 0, 1), (0, 1, 1), (1, 1, 0))\n",
      "\n",
      "((0, 0, 1), (0, 1, 1), (1, 1, 1))\n",
      "\n",
      "((0, 0, 1), (1, 0, 0), (1, 1, 0))\n",
      "\n",
      "((0, 0, 1), (1, 0, 0), (1, 1, 1))\n",
      "\n",
      "((0, 0, 1), (1, 0, 1), (1, 1, 0))\n",
      "\n",
      "((0, 0, 1), (1, 0, 1), (1, 1, 1))\n",
      "\n",
      "((0, 1, 0), (0, 1, 1), (1, 0, 0))\n",
      "\n",
      "((0, 1, 0), (0, 1, 1), (1, 0, 1))\n",
      "\n",
      "((0, 1, 0), (0, 1, 1), (1, 1, 0))\n",
      "\n",
      "((0, 1, 0), (0, 1, 1), (1, 1, 1))\n",
      "\n",
      "((0, 1, 0), (1, 0, 0), (1, 0, 1))\n",
      "\n",
      "((0, 1, 0), (1, 0, 0), (1, 1, 1))\n",
      "\n",
      "((0, 1, 0), (1, 0, 1), (1, 1, 0))\n",
      "\n",
      "((0, 1, 0), (1, 1, 0), (1, 1, 1))\n",
      "\n",
      "((0, 1, 1), (1, 0, 0), (1, 0, 1))\n",
      "\n",
      "((0, 1, 1), (1, 0, 0), (1, 1, 0))\n",
      "\n",
      "((0, 1, 1), (1, 0, 1), (1, 1, 1))\n",
      "\n",
      "((0, 1, 1), (1, 1, 0), (1, 1, 1))\n",
      "\n",
      "((1, 0, 0), (1, 0, 1), (1, 1, 0))\n",
      "\n",
      "((1, 0, 0), (1, 0, 1), (1, 1, 1))\n",
      "\n",
      "((1, 0, 0), (1, 1, 0), (1, 1, 1))\n",
      "\n",
      "((1, 0, 1), (1, 1, 0), (1, 1, 1))\n",
      "\n"
     ]
    }
   ],
   "source": [
    "n = 3\n",
    "vectors = generate_binary_vectors(n)\n",
    "find_bases(vectors, n)"
   ]
  },
  {
   "cell_type": "code",
   "execution_count": 8,
   "id": "7a956dda-d4b4-4cdd-9c88-b5ac8ac1932a",
   "metadata": {},
   "outputs": [
    {
     "name": "stdout",
     "output_type": "stream",
     "text": [
      "6\n"
     ]
    }
   ],
   "source": [
    "import numpy as np\n",
    "\n",
    "# Function to calculate the determinant and return 0 or 1\n",
    "\n",
    "\n",
    "\n",
    "# Function to find and write all the bases to the output file\n",
    "\n",
    "\n",
    "# Function to compute the number of bases\n",
    "\n",
    "\n",
    "def main():\n",
    "    with open('input.in', 'r') as fin, open('output.out', 'w') as fout:\n",
    "        n = int(fin.readline().strip())\n",
    "        vectors = generate_binary_vectors(n)\n",
    "        bases_cnt = compute_number_of_bases(n)\n",
    "        fout.write(f\"The number of bases is {bases_cnt}\\n\")\n",
    "        if n <= 4:\n",
    "            fout.write(\"The vectors of each such basis are:\\n\")\n",
    "            find_bases(vectors, n, fout)\n",
    "\n",
    "print(compute_number_of_bases(2))"
   ]
  },
  {
   "cell_type": "code",
   "execution_count": null,
   "id": "c2a08658-f4ea-4fd1-a116-0c753a626943",
   "metadata": {},
   "outputs": [],
   "source": []
  }
 ],
 "metadata": {
  "kernelspec": {
   "display_name": "Python 3 (ipykernel)",
   "language": "python",
   "name": "python3"
  },
  "language_info": {
   "codemirror_mode": {
    "name": "ipython",
    "version": 3
   },
   "file_extension": ".py",
   "mimetype": "text/x-python",
   "name": "python",
   "nbconvert_exporter": "python",
   "pygments_lexer": "ipython3",
   "version": "3.11.6"
  }
 },
 "nbformat": 4,
 "nbformat_minor": 5
}
