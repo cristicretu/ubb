{
 "cells": [
  {
   "cell_type": "markdown",
   "id": "31ea2a50-908b-4ed5-a119-09da47127adf",
   "metadata": {},
   "source": [
    "To show that $ f'(x) \\approx \\frac{f(x + h) - f(x)}{h} $, we will approximate using the Taylor series expansion of $ f(x + h) $ around $ x $:\n",
    "\n",
    "Def: $$ f(x) = \\sum_{n=0}^{\\infty} \\frac{f^{(n)}(x_0)}{n!}(x - x_0)^n $$\n",
    "then: $$ f(x + h) = \\sum_{n=0}^{\\infty} \\frac{f^{(n)}(x)}{n!} h^n $$\n",
    "and for a first order approximation, we will only go until the linear term:\n",
    "$$ f(x + h) \\approx f(x) + h f'(x) $$\n",
    "\n",
    "The remainder term $R_n(x)$ in Taylor's theorem, which provides the error of this approximation, is:\n",
    "$$ R_n(x) = \\frac{f^{(n+1)}(c)}{(n+1)!}(x - x_0)^{(n+1)} $$\n",
    "\n",
    "For the first-order approximation, the remainder term is $R_1(x + h) = \\frac{f''(c)}{2!} h^2$, where $x < c < x + h $.\n",
    "\n",
    "And the remainder term $R_1(x + h)$ for the first-order approximation is given by:\n",
    "$$ R_1(x + h) = f(x + h) - T_1(x + h) = \\frac{f''(c)}{2!} h^2 $$\n",
    "\n",
    "Since $ f(x + h) \\approx f(x) + h f'(x) $\n",
    "\n",
    "Then we have\n",
    "$$ \\frac{f(x + h) - f(x)}{h} = f'(x) + \\frac{f''(c)}{2} h $$\n",
    "\n",
    "Which results that:\n",
    "$$ f'(x) = \\frac{f(x+h) - f(x)}{h} + O(h) $$"
   ]
  },
  {
   "cell_type": "markdown",
   "id": "cd3506ea-5dbb-44df-8186-fa07a4ff6c78",
   "metadata": {},
   "source": [
    "To show that $f'(x)$ is approximated by the centered difference formula with an error term of $O(h^2)$, we use the Taylor series expansions of $f(x + h)$ and $f(x - h)$ around $x$:\n",
    "\n",
    "$$ f(x + h) = f(x) + h f'(x) + \\frac{h^2}{2!}f''(x) + \\frac{h^3}{3!}f'''(c_1) + \\ldots $$\n",
    "$$ f(x - h) = f(x) - h f'(x) + \\frac{h^2}{2!}f''(x) - \\frac{h^3}{3!}f'''(c_2) + \\ldots $$\n",
    "\n",
    "where $c_1$ and $c_2$ are some values in the intervals $(x, x + h)$ and $(x - h, x)$, respectively.\n",
    "\n",
    "When we subtract the second expansion from the first, the odd-powered terms (like $h f'(x)$ and the cubic term) cancel out, and we're left with:\n",
    "\n",
    "$$ f(x + h) - f(x - h) = 2h f'(x) + \\frac{h^3}{3!}(f'''(c_1) - f'''(c_2)) $$\n",
    "\n",
    "Dividing through by $2h$, we have:\n",
    "\n",
    "$$ \\frac{f(x + h) - f(x - h)}{2h} = f'(x) + \\frac{h^2}{6}(f'''(c_1) - f'''(c_2)) $$\n",
    "\n",
    "The term $\\frac{h^2}{6}(f'''(c_1) - f'''(c_2))$ is the error term, which is of order $h^2$, making the approximation a second-order approximation."
   ]
  },
  {
   "cell_type": "code",
   "execution_count": 1,
   "id": "df0d14cd-f306-4f03-a7a3-3f845df4862f",
   "metadata": {},
   "outputs": [],
   "source": [
    "import math\n",
    "import matplotlib.pyplot as plt\n",
    "import numpy as np\n",
    "%matplotlib inline"
   ]
  },
  {
   "cell_type": "code",
   "execution_count": null,
   "id": "a932c8b6-70f0-4378-8ebf-3b3b61d79595",
   "metadata": {},
   "outputs": [],
   "source": []
  }
 ],
 "metadata": {
  "kernelspec": {
   "display_name": "Python 3 (ipykernel)",
   "language": "python",
   "name": "python3"
  },
  "language_info": {
   "codemirror_mode": {
    "name": "ipython",
    "version": 3
   },
   "file_extension": ".py",
   "mimetype": "text/x-python",
   "name": "python",
   "nbconvert_exporter": "python",
   "pygments_lexer": "ipython3",
   "version": "3.11.6"
  }
 },
 "nbformat": 4,
 "nbformat_minor": 5
}
