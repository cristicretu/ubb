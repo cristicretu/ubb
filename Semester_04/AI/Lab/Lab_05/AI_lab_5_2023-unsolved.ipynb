{
 "cells": [
  {
   "cell_type": "markdown",
   "id": "b8210b19",
   "metadata": {},
   "source": [
    "## A.I. Assignment 5\n",
    "\n",
    "## Learning Goals\n",
    "\n",
    "By the end of this lab, you should be able to:\n",
    "* Get more familiar with tensors in pytorch \n",
    "* Create a simple multilayer perceptron model with pytorch\n",
    "* Visualise the parameters\n",
    "\n",
    "\n",
    "### Task\n",
    "\n",
    "Build a fully connected feed forward network that adds two bits. Determine the a propper achitecture for this network (what database you use for this problem? how many layers? how many neurons on each layer? what is the activation function? what is the loss function? etc)\n",
    "\n",
    "Create at least 3 such networks and compare their performance (how accurate they are?, how farst they are trained to get at 1 accuracy?)\n",
    "\n",
    "Display for the best one the weights for each layer.\n"
   ]
  },
  {
   "cell_type": "code",
   "execution_count": 2,
   "id": "e3614e5f",
   "metadata": {},
   "outputs": [],
   "source": [
    "import torch\n",
    "import torch.nn as nn\n",
    "from collections import OrderedDict"
   ]
  },
  {
   "cell_type": "code",
   "execution_count": 68,
   "id": "5ee7e7d7",
   "metadata": {},
   "outputs": [],
   "source": [
    "# in 2 bits\n",
    "# out 1 bit, carry 1 bit\n",
    "\n",
    "# your code here\n",
    "model1 = nn.Sequential(OrderedDict([\n",
    "          ('input', nn.Linear(2, 5)),\n",
    "          ('relu1', nn.ReLU()),\n",
    "          ('output', nn.Linear(5, 2)),\n",
    "          ('sigmoid', nn.Sigmoid())\n",
    "        ]))\n",
    "\n",
    "model2 = nn.Sequential(OrderedDict([\n",
    "          ('input', nn.Linear(2, 10)),\n",
    "          ('relu1', nn.ReLU()),\n",
    "          ('output', nn.Linear(10, 2)),\n",
    "          ('sigmoid', nn.Sigmoid())\n",
    "        ]))\n",
    "\n",
    "model3 = nn.Sequential(OrderedDict([\n",
    "          ('input', nn.Linear(2, 8)),\n",
    "          ('relu1', nn.ReLU()),\n",
    "          ('output', nn.Linear(8, 6)),\n",
    "          ('relu2', nn.ReLU()),\n",
    "          ('output2', nn.Linear(6, 4)),\n",
    "          ('relu3', nn.ReLU()),\n",
    "          ('output3', nn.Linear(4, 2)),\n",
    "          ('sigmoid', nn.Sigmoid())\n",
    "        ]))\n",
    "        \n"
   ]
  },
  {
   "cell_type": "code",
   "execution_count": 44,
   "id": "665ae958",
   "metadata": {},
   "outputs": [
    {
     "name": "stdout",
     "output_type": "stream",
     "text": [
      "Sequential(\n",
      "  (input): Linear(in_features=2, out_features=5, bias=True)\n",
      "  (relu1): ReLU()\n",
      "  (output): Linear(in_features=5, out_features=2, bias=True)\n",
      "  (sigmoid): Sigmoid()\n",
      ")\n",
      "--------------------------------\n",
      "Sequential(\n",
      "  (input): Linear(in_features=2, out_features=10, bias=True)\n",
      "  (relu1): ReLU()\n",
      "  (output): Linear(in_features=10, out_features=2, bias=True)\n",
      "  (sigmoid): Sigmoid()\n",
      ")\n",
      "--------------------------------\n",
      "Sequential(\n",
      "  (input): Linear(in_features=2, out_features=8, bias=True)\n",
      "  (relu1): ReLU()\n",
      "  (output): Linear(in_features=8, out_features=6, bias=True)\n",
      "  (relu2): ReLU()\n",
      "  (output2): Linear(in_features=6, out_features=4, bias=True)\n",
      "  (relu3): ReLU()\n",
      "  (output3): Linear(in_features=4, out_features=2, bias=True)\n",
      "  (sigmoid): Sigmoid()\n",
      ")\n"
     ]
    }
   ],
   "source": [
    "print(model1)\n",
    "print(\"--------------------------------\")\n",
    "print(model2)\n",
    "print(\"--------------------------------\")\n",
    "print(model3)"
   ]
  },
  {
   "cell_type": "code",
   "execution_count": 45,
   "id": "e26f0d3e",
   "metadata": {},
   "outputs": [
    {
     "name": "stdout",
     "output_type": "stream",
     "text": [
      "tensor([[0., 0.],\n",
      "        [0., 1.],\n",
      "        [1., 0.],\n",
      "        [1., 1.]])\n"
     ]
    }
   ],
   "source": [
    "# your code here\n",
    "data_in = torch.tensor([[0,0],[0,1],[1,0],[1,1]], dtype=torch.float32)\n",
    "print(data_in)"
   ]
  },
  {
   "cell_type": "code",
   "execution_count": 46,
   "id": "4fb16bbc",
   "metadata": {},
   "outputs": [
    {
     "name": "stdout",
     "output_type": "stream",
     "text": [
      "tensor([[0., 0.],\n",
      "        [1., 0.],\n",
      "        [1., 0.],\n",
      "        [1., 1.]])\n"
     ]
    }
   ],
   "source": [
    "# your code here\n",
    "data_target = torch.tensor([[0, 0],[1, 0],[1, 0],[1, 1]], dtype=torch.float32)\n",
    "print(data_target)"
   ]
  },
  {
   "cell_type": "code",
   "execution_count": 69,
   "id": "69d920ed",
   "metadata": {},
   "outputs": [],
   "source": [
    "# your code here\n",
    "criterion1 = torch.nn.BCELoss()\n",
    "optimizer1 = torch.optim.Adam(model1.parameters(), lr=0.01)\n",
    "optimizer2 = torch.optim.Adam(model2.parameters(), lr=0.01)\n",
    "optimizer3 = torch.optim.Adam(model3.parameters(), lr=0.01)\n"
   ]
  },
  {
   "cell_type": "code",
   "execution_count": 70,
   "id": "cde91f6f",
   "metadata": {},
   "outputs": [],
   "source": [
    "# your code here\n",
    "# Train the model\n",
    "\n",
    "def train_model(model, data_in, data_target, criterion, optimizer, num_epochs):\n",
    "    \n",
    "    losses = []\n",
    "    for epoch in range(num_epochs):\n",
    "        optimizer.zero_grad()\n",
    "        outputs = model(data_in)\n",
    "        loss = criterion(outputs, data_target)\n",
    "        loss.backward()\n",
    "        optimizer.step()\n",
    "        losses.append(loss.item())\n",
    "    if (epoch + 1) % 100 == 0:\n",
    "        print(f'Epoch {epoch + 1}/{num_epochs}, Loss: {loss.item():.4f}')\n",
    "\n",
    "    print(\"Training complete\")\n",
    "\n",
    "    return loss.item(), losses\n",
    "\n",
    "\n",
    "test_data = torch.tensor([[0,0],[0,1],[1,0],[1,1]], dtype=torch.float32)\n",
    "test_target = torch.tensor([[0, 0],[1, 0],[1, 0],[1, 1]], dtype=torch.float32)\n",
    "\n",
    "def test_model(model, data_in, data_target):\n",
    "    with torch.no_grad():\n",
    "        outputs = model(data_in)\n",
    "    predicted = (outputs > 0.5).float()\n",
    "\n",
    "    print(\"Predicted:\")\n",
    "    print(predicted)\n",
    "    print(\"Target:\")\n",
    "    print(test_target)\n",
    "    \n",
    "    print(\"accuracy:\")\n",
    "    print(torch.sum(predicted == data_target) / len(data_target))\n",
    "\n",
    "    return torch.sum(predicted == data_target).item() / (data_target.numel())\n",
    "\n"
   ]
  },
  {
   "cell_type": "code",
   "execution_count": 71,
   "id": "dff3ec1a",
   "metadata": {},
   "outputs": [
    {
     "name": "stdout",
     "output_type": "stream",
     "text": [
      "Epoch 400/400, Loss: 0.0090\n",
      "Training complete\n",
      "Predicted:\n",
      "tensor([[0., 0.],\n",
      "        [1., 0.],\n",
      "        [1., 0.],\n",
      "        [1., 1.]])\n",
      "Target:\n",
      "tensor([[0., 0.],\n",
      "        [1., 0.],\n",
      "        [1., 0.],\n",
      "        [1., 1.]])\n",
      "accuracy:\n",
      "tensor(2.)\n",
      "Epoch 400/400, Loss: 0.0034\n",
      "Training complete\n",
      "Predicted:\n",
      "tensor([[0., 0.],\n",
      "        [1., 0.],\n",
      "        [1., 0.],\n",
      "        [1., 1.]])\n",
      "Target:\n",
      "tensor([[0., 0.],\n",
      "        [1., 0.],\n",
      "        [1., 0.],\n",
      "        [1., 1.]])\n",
      "accuracy:\n",
      "tensor(2.)\n",
      "Epoch 400/400, Loss: 0.0002\n",
      "Training complete\n",
      "Predicted:\n",
      "tensor([[0., 0.],\n",
      "        [1., 0.],\n",
      "        [1., 0.],\n",
      "        [1., 1.]])\n",
      "Target:\n",
      "tensor([[0., 0.],\n",
      "        [1., 0.],\n",
      "        [1., 0.],\n",
      "        [1., 1.]])\n",
      "accuracy:\n",
      "tensor(2.)\n",
      "Model 1: Loss: 0.00896727666258812, Accuracy: 1.0\n",
      "Model 2: Loss: 0.003419240703806281, Accuracy: 1.0\n",
      "Model 3: Loss: 0.00017507524171378464, Accuracy: 1.0\n"
     ]
    }
   ],
   "source": [
    "# your code here\n",
    "# visualize the resuts\n",
    "\n",
    "loss1, losses1 = train_model(model1, data_in, data_target, criterion1, optimizer1, 400)\n",
    "acc1 = test_model(model1, test_data, test_target)\n",
    "\n",
    "loss2, losses2 = train_model(model2, data_in, data_target, criterion1, optimizer2, 400)\n",
    "acc2 = test_model(model2, test_data, test_target)\n",
    "\n",
    "loss3, losses3 = train_model(model3, data_in, data_target, criterion1, optimizer3, 400)\n",
    "acc3 = test_model(model3, test_data, test_target)\n",
    "\n",
    "print(f\"Model 1: Loss: {loss1}, Accuracy: {acc1}\")\n",
    "print(f\"Model 2: Loss: {loss2}, Accuracy: {acc2}\")\n",
    "print(f\"Model 3: Loss: {loss3}, Accuracy: {acc3}\")\n",
    "\n",
    "\n",
    "\n",
    "\n",
    "\n",
    "\n",
    "\n",
    "\n"
   ]
  },
  {
   "cell_type": "code",
   "execution_count": 72,
   "id": "c1a7518b",
   "metadata": {},
   "outputs": [
    {
     "data": {
      "image/png": "[encoded data removed]",
      "text/plain": [
       "<Figure size 800x500 with 1 Axes>"
      ]
     },
     "metadata": {},
     "output_type": "display_data"
    }
   ],
   "source": [
    "import matplotlib.pyplot as plt\n",
    "\n",
    "plt.figure(figsize=(8, 5))\n",
    "plt.plot(losses1, label=\"Model 1\", color='blue')\n",
    "plt.plot(losses2, label=\"Model 2\", color='orange')\n",
    "plt.plot(losses3, label=\"Model 3\", color='green')\n",
    "\n",
    "plt.xlabel(\"Epochs\")\n",
    "plt.ylabel(\"Loss\")\n",
    "plt.legend()\n",
    "plt.grid(True)\n",
    "\n",
    "plt.show()\n",
    "\n"
   ]
  },
  {
   "cell_type": "code",
   "execution_count": 73,
   "id": "4cdf09ba",
   "metadata": {},
   "outputs": [
    {
     "name": "stdout",
     "output_type": "stream",
     "text": [
      "OrderedDict([('input.weight', tensor([[ 1.0290,  0.2692],\n",
      "        [-0.0404, -0.5493],\n",
      "        [-0.8109,  0.7189],\n",
      "        [ 1.1894,  1.7970],\n",
      "        [-0.7541, -0.7974],\n",
      "        [-0.9369,  1.0113],\n",
      "        [-0.6072, -0.2792],\n",
      "        [-0.1839,  0.3083]])), ('input.bias', tensor([ 1.7293, -0.0834,  0.3602,  0.0582,  1.5514,  0.1850, -0.5900, -0.3404])), ('output.weight', tensor([[-0.1140, -0.1874,  0.0056, -0.0108,  0.2031, -0.1749,  0.1792, -0.3339],\n",
      "        [ 1.3253, -0.2902,  1.2433,  0.1937,  0.9209,  0.7602,  0.1264,  0.1972],\n",
      "        [-0.3500, -0.0574,  0.1762,  0.2319, -0.3386,  0.1176,  0.0106, -0.1885],\n",
      "        [ 0.6786,  0.0455,  1.0874, -1.1545,  1.1189,  0.9624, -0.2327, -0.1711],\n",
      "        [ 0.6028,  0.0921,  0.0539,  1.3749, -1.0853,  0.4700, -0.0291, -0.1544],\n",
      "        [ 0.7061, -0.1837,  1.2284,  0.2421,  0.6916,  1.0637,  0.0180, -0.1935]])), ('output.bias', tensor([-0.1982,  0.9301, -0.2932,  0.9195,  0.4549,  0.7543])), ('output2.weight', tensor([[ 0.0631,  0.6021, -0.1666, -0.8621,  1.2628,  0.3770],\n",
      "        [-0.0340,  0.7046, -0.0099,  0.5260,  0.5636,  0.8222],\n",
      "        [ 0.1599, -0.3730, -0.1129,  0.2564, -0.0233, -0.3623],\n",
      "        [ 0.0600,  0.8948, -0.0472,  1.0703, -1.6047,  0.8007]])), ('output2.bias', tensor([ 0.2772,  0.2769, -0.3944,  0.5191])), ('output3.weight', tensor([[ 1.0664,  0.8105,  0.3723, -1.3000],\n",
      "        [ 1.1120, -0.6211, -0.2144, -1.6687]])), ('output3.bias', tensor([0.1395, 0.4466]))])\n"
     ]
    }
   ],
   "source": [
    "print(model3.state_dict())"
   ]
  },
  {
   "cell_type": "code",
   "execution_count": null,
   "id": "d0bea66c",
   "metadata": {},
   "outputs": [],
   "source": []
  },
  {
   "cell_type": "code",
   "execution_count": null,
   "id": "e29c65a2",
   "metadata": {},
   "outputs": [],
   "source": []
  }
 ],
 "metadata": {
  "kernelspec": {
   "display_name": "ml",
   "language": "python",
   "name": "python3"
  },
  "language_info": {
   "codemirror_mode": {
    "name": "ipython",
    "version": 3
   },
   "file_extension": ".py",
   "mimetype": "text/x-python",
   "name": "python",
   "nbconvert_exporter": "python",
   "pygments_lexer": "ipython3",
   "version": "3.10.13"
  }
 },
 "nbformat": 4,
 "nbformat_minor": 5
}
