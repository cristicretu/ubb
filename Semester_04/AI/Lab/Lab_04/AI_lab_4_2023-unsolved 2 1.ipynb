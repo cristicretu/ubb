{
  "cells": [
    {
      "cell_type": "markdown",
      "id": "b246b6ac",
      "metadata": {},
      "source": [
        "## A.I. Assignment 4\n",
        "\n",
        "## Learning Goals\n",
        "\n",
        "By the end of this lab, you should be able to:\n",
        "* Get familiar with tensors in pytorch\n",
        "* Get familiar with the activation functions for ANN \n",
        "* Create a simple perceptron model with pytorch\n",
        "\n"
      ]
    },
    {
      "cell_type": "markdown",
      "id": "8247d8bb",
      "metadata": {},
      "source": [
        "## Common activation functions for ANN:\n",
        "\n",
        "##### Sigmoid:\n",
        "\n",
        "The sigmoid function is a popular choice for activation functions in neural networks. It has an $S-shaped$ curve:\n",
        "$$f(x) = \\frac{1}{1+e^{-x}}.$$\n",
        "\n",
        "It has a number of appealing qualities:\n",
        "\n",
        "1. *Nonlinearity*: Because the sigmoid function is nonlinear, it enables the neural network to simulate nonlinear interactions between inputs and outputs. A neural network would simply be a linear model without a nonlinear activation function like sigmoid, which would significantly restrict its capacity to describe complex relationships.\n",
        "\n",
        "1. *Smoothness*: As the sigmoid function is differentiable and smooth, its derivative exist at every point. This is significant because it makes it possible for neural network training techniques based on gradients (such as backpropagation) to perform well.\n",
        "\n",
        "1. *Boundedness*: The sigmoid function is bounded between 0 and 1, it means  its outputs can be interpreted as probabilities.  It is most useful in applications like binary classification, where the goal is to predict whether an input belongs to one of two classes.\n",
        "\n",
        "1. *Monotonicity*: The sigmoid function is monotonic, which means that its outputs are always increasing or always decreasing with respect to its inputs. This makes it easy to interpret the effect of changes in input variables on the output of the network.\n",
        "\n",
        "##### ReLU (Rectified Linear Unit):\n",
        "\n",
        "The ReLU function is defined as $$f(x) = max(0, x).$$\n",
        "\n",
        "It is a widely used activation function in deep learning due to its simplicity and effectiveness.\n",
        "\n",
        "##### Tanh (Hyperbolic Tangent):\n",
        "\n",
        "The $\\tanh$ function is similar to the sigmoid function but produces outputs in the interval $[-1, 1]$:  \n",
        "$$f(x) = \\frac{e^{x}-e^{-x}}{e^{x}+e^{-x}}.$$\n",
        "\n",
        "##### Softmax:\n",
        "\n",
        "The softmax function is commonly used in the output layer of a neural network for multi-class classification problems. It normalizes the output into a probability distribution over the classes.\n",
        "\n",
        "Given a vector $\\vec{z}$ of $n$ real numbers, the softmax function calculates a vector $\\vec{s}$ of $n$ real numbers with the components:\n",
        "$$s_j = \\frac{e^{z_j}}{\\sum_{k=1}^{n} {e^{z_k}}}.$$\n",
        "\n",
        "\n",
        "##### Leaky ReLU:\n",
        "\n",
        "The Leaky ReLU is a variation of the ReLU function that introduces a small non-zero gradient for negative inputs. It is defined as \n",
        "$$f(x) = max(0.01 \\cdot x, x).$$\n",
        "\n",
        "##### ELU (Exponential Linear Unit):\n",
        "\n",
        "The ELU function is another variation of the ReLU function that introduces a small negative saturation value for negative inputs. It is defined as \n",
        "\n",
        "$$ f(x) = \\biggl\\{ \\begin{matrix} x, & for & x > 0 \\\\\n",
        "                      \\alpha \\cdot (e^{x} - 1), & for & x \\leq 0 \\end{matrix}$$\n",
        "where $\\alpha$ is a hyperparameter.\n",
        "\n",
        "##### Swish:\n",
        "\n",
        "The Swish function is a recent activation function that is a smooth approximation of the ReLU function. It is defined as f(x) = x * sigmoid(x).\n"
      ]
    },
    {
      "cell_type": "code",
      "execution_count": 1,
      "id": "68931328",
      "metadata": {},
      "outputs": [
        {
          "data": {
            "text/plain": [
              "False"
            ]
          },
          "execution_count": 1,
          "metadata": {},
          "output_type": "execute_result"
        }
      ],
      "source": [
        "import torch\n",
        "torch.cuda.is_available()"
      ]
    },
    {
      "cell_type": "markdown",
      "id": "93017ce5",
      "metadata": {},
      "source": [
        "create a tensor with requires_grad=True to tell PyTorch to track gradients for this tensor:"
      ]
    },
    {
      "cell_type": "code",
      "execution_count": 2,
      "id": "a14b6a39",
      "metadata": {},
      "outputs": [
        {
          "name": "stdout",
          "output_type": "stream",
          "text": [
            "tensor([2.], requires_grad=True)\n"
          ]
        }
      ],
      "source": [
        "x = torch.tensor([2.0], requires_grad=True)\n",
        "print(x)"
      ]
    },
    {
      "cell_type": "markdown",
      "id": "56340210",
      "metadata": {},
      "source": [
        "You can perform any operations on this tensor as usual:"
      ]
    },
    {
      "cell_type": "code",
      "execution_count": 3,
      "id": "99cb5a71",
      "metadata": {},
      "outputs": [
        {
          "name": "stdout",
          "output_type": "stream",
          "text": [
            "tensor([9.], grad_fn=<AddBackward0>)\n"
          ]
        }
      ],
      "source": [
        "y = x ** 2 + 2 * x + 1\n",
        "print(y)"
      ]
    },
    {
      "cell_type": "markdown",
      "id": "af8a18dc",
      "metadata": {},
      "source": [
        "To compute the gradients of y with respect to x, you need to call backward() on y:"
      ]
    },
    {
      "cell_type": "code",
      "execution_count": 4,
      "id": "8c244acf",
      "metadata": {},
      "outputs": [],
      "source": [
        "y.backward()"
      ]
    },
    {
      "cell_type": "code",
      "execution_count": 5,
      "id": "0e9b7e33",
      "metadata": {},
      "outputs": [
        {
          "data": {
            "text/plain": [
              "tensor([6.])"
            ]
          },
          "execution_count": 5,
          "metadata": {},
          "output_type": "execute_result"
        }
      ],
      "source": [
        "x.grad"
      ]
    },
    {
      "cell_type": "code",
      "execution_count": 6,
      "id": "87ce525b",
      "metadata": {},
      "outputs": [
        {
          "name": "stdout",
          "output_type": "stream",
          "text": [
            "tensor([1., 1., 1.])\n"
          ]
        }
      ],
      "source": [
        "import torch\n",
        "\n",
        "# Create a tensor with requires_grad=True\n",
        "x = torch.tensor([1., 2., 3.], requires_grad=True)\n",
        "\n",
        "# Compute a function of x\n",
        "y = x.sum()\n",
        "\n",
        "# Compute gradients of y with respect to x\n",
        "y.backward()\n",
        "\n",
        "# Print gradients of x\n",
        "print(x.grad)\n"
      ]
    },
    {
      "cell_type": "markdown",
      "id": "30804b8c",
      "metadata": {},
      "source": [
        "Exercise 1.\n",
        "\n",
        "Compute the gradient for the sigmoid activation function in 2 points using pytorch and check it with the known explicit formula "
      ]
    },
    {
      "cell_type": "code",
      "execution_count": 16,
      "id": "2dc94902",
      "metadata": {},
      "outputs": [
        {
          "name": "stdout",
          "output_type": "stream",
          "text": [
            "sigmoid(4.0) = tensor([0.9820]) and sigmoid(-4.0) = tensor([0.0180])\n",
            "manual: sigmoid(4.0) = 0.017662733793258667 and sigmoid(-4.0) = 0.01766270585358143\n",
            "autograd: sigmoid(4.0) = 0.017662733793258667 and sigmoid(-4.0) = 0.01766270585358143\n"
          ]
        }
      ],
      "source": [
        "# your code here\n",
        "one = torch.sigmoid(torch.tensor([4.0]))\n",
        "two = torch.sigmoid(torch.tensor([-4.0]))\n",
        "\n",
        "print(f\"sigmoid(4.0) = {one} and sigmoid(-4.0) = {two}\")\n",
        "\n",
        "x = torch.tensor([4.0, -4.0], requires_grad=True)\n",
        "y = torch.sigmoid(x)\n",
        "\n",
        "manual_grad = y * (1 - y)\n",
        "\n",
        "print(f\"manual: sigmoid(4.0) = {manual_grad[0]} and sigmoid(-4.0) = {manual_grad[1]}\")\n",
        "\n",
        "y.sum().backward()\n",
        "\n",
        "print(f\"autograd: sigmoid(4.0) = {x.grad[0]} and sigmoid(-4.0) = {x.grad[1]}\")\n",
        "\n"
      ]
    },
    {
      "cell_type": "markdown",
      "id": "7e77a45c",
      "metadata": {},
      "source": [
        "Exercise 2.\n",
        "\n",
        "Compute the gradient for the linear activation function in 2 points using pytorch and check it with the known explicit formula"
      ]
    },
    {
      "cell_type": "code",
      "execution_count": 42,
      "id": "7054039e",
      "metadata": {},
      "outputs": [
        {
          "name": "stdout",
          "output_type": "stream",
          "text": [
            "linear(4.0) = tensor([4.]) and linear(-4.0) = tensor([-4.])\n",
            "manual: linear(4.0) = 1.0 and linear(-4.0) = 1.0\n",
            "autograd: linear(4.0) = 1.0 and linear(-4.0) = 1.0\n"
          ]
        }
      ],
      "source": [
        "# your code here\n",
        "one = torch.tensor([4.0])\n",
        "two = torch.tensor([-4.0])\n",
        "\n",
        "print(f\"linear(4.0) = {one} and linear(-4.0) = {two}\")\n",
        "\n",
        "x = torch.tensor([4.0, -4.0], requires_grad=True)\n",
        "\n",
        "y = x \n",
        "\n",
        "manual_grad = torch.ones_like(x)\n",
        "\n",
        "print(f\"manual: linear(4.0) = {manual_grad[0]} and linear(-4.0) = {manual_grad[1]}\")\n",
        "\n",
        "y.sum().backward()\n",
        "\n",
        "print(f\"autograd: linear(4.0) = {x.grad[0]} and linear(-4.0) = {x.grad[1]}\")\n"
      ]
    },
    {
      "cell_type": "markdown",
      "id": "dab117e3",
      "metadata": {},
      "source": [
        "Execise 3.\n",
        "\n",
        "Compute the gradient for the relu activation function in 2 points using pytorch and check it with the known explicit formula."
      ]
    },
    {
      "cell_type": "code",
      "execution_count": 18,
      "id": "1f69f4c5",
      "metadata": {},
      "outputs": [
        {
          "name": "stdout",
          "output_type": "stream",
          "text": [
            "relu(4.0) = tensor([4.]) and relu(-4.0) = tensor([0.])\n",
            "manual: relu(4.0) = 1.0 and relu(-4.0) = 0.0\n",
            "autograd: relu(4.0) = 1.0 and relu(-4.0) = 0.0\n"
          ]
        }
      ],
      "source": [
        "# your code here\n",
        "one = torch.relu(torch.tensor([4.0]))\n",
        "two = torch.relu(torch.tensor([-4.0]))\n",
        "\n",
        "print(f\"relu(4.0) = {one} and relu(-4.0) = {two}\")\n",
        "\n",
        "x = torch.tensor([4.0, -4.0], requires_grad=True)\n",
        "y = torch.relu(x)\n",
        "\n",
        "manual_grad = torch.tensor([1.0 if i > 0 else 0.0 for i in x])\n",
        "\n",
        "print(f\"manual: relu(4.0) = {manual_grad[0]} and relu(-4.0) = {manual_grad[1]}\")\n",
        "\n",
        "y.sum().backward()\n",
        "\n",
        "print(f\"autograd: relu(4.0) = {x.grad[0]} and relu(-4.0) = {x.grad[1]}\")\n"
      ]
    },
    {
      "cell_type": "markdown",
      "id": "ef985f68",
      "metadata": {},
      "source": [
        "Exercise 4. \n",
        "\n",
        "Write in python a function to plot the sigmoid activation function and its gradient using matplotlib"
      ]
    },
    {
      "cell_type": "code",
      "execution_count": 28,
      "id": "6c645aaf",
      "metadata": {},
      "outputs": [
        {
          "data": {
            "image/png": "[encoded data removed]",
            "text/plain": [
              "<Figure size 640x480 with 1 Axes>"
            ]
          },
          "metadata": {},
          "output_type": "display_data"
        }
      ],
      "source": [
        "# your code here\n",
        "import matplotlib.pyplot as plt\n",
        "import numpy as np\n",
        "\n",
        "def plot_sigmoid(x):\n",
        "    y = 1 / (1 + np.exp(-x))\n",
        "    return y\n",
        "\n",
        "def plot_sigmoid_gradient(x):\n",
        "    y = plot_sigmoid(x)\n",
        "    return y * (1 - y)\n",
        "\n",
        "x = np.linspace(-10, 10, 100)\n",
        "sigmoid_y = plot_sigmoid(x)\n",
        "gradient_y = plot_sigmoid_gradient(x)\n",
        "\n",
        "plt.figure()\n",
        "plt.plot(x, sigmoid_y, label='sigmoid')\n",
        "plt.plot(x, gradient_y, label='gradient')\n",
        "plt.legend()\n",
        "plt.show()\n",
        "\n"
      ]
    },
    {
      "cell_type": "markdown",
      "id": "51202a51",
      "metadata": {},
      "source": [
        "Exercise 5. \n",
        "\n",
        "Write in python a function to plot the ReLU activation function and its gradient using matplotlib."
      ]
    },
    {
      "cell_type": "code",
      "execution_count": 32,
      "id": "99e49c47",
      "metadata": {},
      "outputs": [
        {
          "data": {
            "text/plain": [
              "<matplotlib.legend.Legend at 0x15a31e500>"
            ]
          },
          "execution_count": 32,
          "metadata": {},
          "output_type": "execute_result"
        },
        {
          "data": {
            "image/png": "[encoded data removed]",
            "text/plain": [
              "<Figure size 640x480 with 1 Axes>"
            ]
          },
          "metadata": {},
          "output_type": "display_data"
        }
      ],
      "source": [
        "# your code here\n",
        "\n",
        "def plot_relu(x):\n",
        "    return np.maximum(0, x)\n",
        "\n",
        "def plot_relu_gradient(x):\n",
        "    return np.where(x > 0, 1, 0)\n",
        "\n",
        "x = np.linspace(-10, 10, 100)\n",
        "relu_y = plot_relu(x)\n",
        "gradient_y = plot_relu_gradient(x)\n",
        "\n",
        "plt.figure()\n",
        "plt.plot(x, relu_y, label='relu')\n",
        "plt.plot(x, gradient_y, label='gradient')\n",
        "plt.legend()"
      ]
    },
    {
      "cell_type": "markdown",
      "id": "c81684ff",
      "metadata": {},
      "source": [
        "Exercise 6. \n",
        "\n",
        "Write in python a function to plot the tanh activation function and its gradient using matplotlib."
      ]
    },
    {
      "cell_type": "code",
      "execution_count": 36,
      "id": "559d421d",
      "metadata": {},
      "outputs": [
        {
          "data": {
            "image/png": "[encoded data removed]",
            "text/plain": [
              "<Figure size 640x480 with 1 Axes>"
            ]
          },
          "metadata": {},
          "output_type": "display_data"
        }
      ],
      "source": [
        "# your code here\n",
        "\n",
        "def plot_tanh(x):\n",
        "    return np.tanh(x)\n",
        "\n",
        "def plot_tanh_gradient(x):\n",
        "    return 1 - np.tanh(x) ** 2\n",
        "\n",
        "x = np.linspace(-1, 1, 100)\n",
        "tanh_y = plot_tanh(x)\n",
        "gradient_y = plot_tanh_gradient(x)\n",
        "\n",
        "plt.figure()\n",
        "plt.plot(x, tanh_y, label='tanh')\n",
        "plt.plot(x, gradient_y, label='gradient')\n",
        "plt.legend()\n",
        "plt.show()\n"
      ]
    },
    {
      "cell_type": "markdown",
      "id": "8740a0a8",
      "metadata": {},
      "source": [
        "Exercise 7. \n",
        "\n",
        "Write in python a function to plot the leaky ReLU activation function and its gradient using matplotlib."
      ]
    },
    {
      "cell_type": "code",
      "execution_count": 37,
      "id": "7b455646",
      "metadata": {},
      "outputs": [
        {
          "data": {
            "text/plain": [
              "<matplotlib.legend.Legend at 0x15a55ca90>"
            ]
          },
          "execution_count": 37,
          "metadata": {},
          "output_type": "execute_result"
        },
        {
          "data": {
            "image/png": "[encoded data removed]",
            "text/plain": [
              "<Figure size 640x480 with 1 Axes>"
            ]
          },
          "metadata": {},
          "output_type": "display_data"
        }
      ],
      "source": [
        "# your code here\n",
        "\n",
        "def plot_leaky_relu(x):\n",
        "    return np.maximum(0.01 * x, x)\n",
        "\n",
        "def plot_leaky_relu_gradient(x):\n",
        "    return np.where(x > 0, 1, 0.01)\n",
        "\n",
        "x = np.linspace(-10, 10, 100)\n",
        "leaky_relu_y = plot_leaky_relu(x)\n",
        "gradient_y = plot_leaky_relu_gradient(x)\n",
        "\n",
        "plt.figure()\n",
        "plt.plot(x, leaky_relu_y, label='leaky_relu')\n",
        "plt.plot(x, gradient_y, label='gradient')\n",
        "plt.legend()"
      ]
    },
    {
      "cell_type": "markdown",
      "id": "4e33119c",
      "metadata": {},
      "source": [
        "## Perceptron\n",
        "\n",
        "We define a class called *Perceptron* that inherits from *torch.nn.Module*. \n",
        "\n",
        "In the constructor, we define a single fully-connected linear layer with $input_dim$ inputs and $output_dim$ outputs, and a $sigmoid$ activation function. In the forward method, we apply the linear transformation to the input $x$, and then apply the sigmoid activation function to the output.\n",
        "\n"
      ]
    },
    {
      "cell_type": "code",
      "execution_count": 39,
      "id": "aa86d7c0",
      "metadata": {},
      "outputs": [],
      "source": [
        "import torch\n",
        "import torch.nn as nn\n",
        "\n",
        "input_size = 2\n",
        "output_size = 1\n",
        "\n",
        "class Perceptron(torch.nn.Module):\n",
        "    def __init__(self, input_dim, output_dim):\n",
        "        super(Perceptron, self).__init__()\n",
        "        self.linear = torch.nn.Linear(input_dim, output_dim)\n",
        "        self.activation = torch.nn.Sigmoid()\n",
        "        \n",
        "    def forward(self, x):\n",
        "        x = self.linear(x)\n",
        "        x = self.activation(x)\n",
        "        return x\n"
      ]
    },
    {
      "cell_type": "markdown",
      "id": "a178820e",
      "metadata": {},
      "source": [
        " We create an instance of this model and use it to make predictions like this:"
      ]
    },
    {
      "cell_type": "code",
      "execution_count": 40,
      "id": "78513e21",
      "metadata": {},
      "outputs": [
        {
          "name": "stdout",
          "output_type": "stream",
          "text": [
            "tensor([0.3314], grad_fn=<SigmoidBackward0>)\n"
          ]
        }
      ],
      "source": [
        "perceptron = Perceptron(input_size, output_size)\n",
        "x = torch.tensor([0.5, 0.2])\n",
        "y = perceptron(x)\n",
        "print(y)\n"
      ]
    },
    {
      "cell_type": "code",
      "execution_count": 41,
      "id": "54070b51",
      "metadata": {},
      "outputs": [
        {
          "name": "stdout",
          "output_type": "stream",
          "text": [
            "Epoch [100/1000], Loss: 0.4898\n",
            "Epoch [200/1000], Loss: 0.4706\n",
            "Epoch [300/1000], Loss: 0.4637\n",
            "Epoch [400/1000], Loss: 0.4604\n",
            "Epoch [500/1000], Loss: 0.4585\n",
            "Epoch [600/1000], Loss: 0.4575\n",
            "Epoch [700/1000], Loss: 0.4568\n",
            "Epoch [800/1000], Loss: 0.4564\n",
            "Epoch [900/1000], Loss: 0.4561\n",
            "Epoch [1000/1000], Loss: 0.4560\n"
          ]
        }
      ],
      "source": [
        "\n",
        "# Define the loss function and optimizer\n",
        "criterion = nn.BCELoss()  # Binary cross-entropy loss\n",
        "optimizer = torch.optim.SGD(perceptron.parameters(), lr=0.1)  # Stochastic gradient descent optimizer\n",
        "\n",
        "# Generate some random input data and labels\n",
        "input_data = torch.randn((10, input_size))\n",
        "labels = torch.randint(0, 2, (10, output_size)).float()\n",
        "\n",
        "# Train the model\n",
        "num_epochs = 1000\n",
        "for epoch in range(num_epochs):\n",
        "    # Forward pass\n",
        "    outputs = perceptron(input_data)\n",
        "    loss = criterion(outputs, labels)\n",
        "\n",
        "    # Backward pass and optimization\n",
        "    optimizer.zero_grad()\n",
        "    loss.backward()\n",
        "    optimizer.step()\n",
        "\n",
        "    # Print the loss every 100 epochs\n",
        "    if (epoch + 1) % 100 == 0:\n",
        "        print(f'Epoch [{epoch+1}/{num_epochs}], Loss: {loss.item():.4f}')"
      ]
    },
    {
      "cell_type": "markdown",
      "id": "75b840f4",
      "metadata": {},
      "source": [
        "Exercise 8: \n",
        "\n",
        "Implement a binary classification model using the Perceptron class in PyTorch for the logic OR. \n",
        "\n",
        "Your task is to create a Perceptron instance and train it using a proper  dataset and the binary cross-entropy loss with stochastic gradient descent optimizer. \n",
        "\n",
        "Here are the steps you can follow:\n",
        "\n",
        "Define a Perceptron class that inherits from torch.nn.Module and implements a binary classification model.\n",
        "\n",
        "Define a binary cross-entropy loss function using the torch.nn.BCEWithLogitsLoss module.\n",
        "\n",
        "Define a stochastic gradient descent optimizer using the torch.optim.SGD module.\n",
        "\n",
        "Train the Perceptron model on the training set using the binary cross-entropy loss and stochastic gradient descent optimizer.\n",
        "\n",
        "Evaluate the trained model compute the accuracy.\n"
      ]
    },
    {
      "cell_type": "code",
      "execution_count": 44,
      "id": "dc3c5d3e",
      "metadata": {},
      "outputs": [],
      "source": [
        "class Perceptron(torch.nn.Module):\n",
        "    def __init__(self, input_dim, output_dim):\n",
        "        super(Perceptron, self).__init__()\n",
        "        self.linear = torch.nn.Linear(input_dim, output_dim)\n",
        "        \n",
        "    def forward(self, x):\n",
        "        x = self.linear(x)\n",
        "        return x"
      ]
    },
    {
      "cell_type": "code",
      "execution_count": 54,
      "id": "5525cc0f",
      "metadata": {},
      "outputs": [],
      "source": [
        "dataset = torch.tensor([[0, 0], [0, 1], [1, 0], [1, 1]], dtype=torch.float32)\n",
        "labels = torch.tensor([0, 1, 1, 1], dtype=torch.float32).view(-1, 1)"
      ]
    },
    {
      "cell_type": "code",
      "execution_count": 49,
      "id": "3a2b4f9f",
      "metadata": {},
      "outputs": [],
      "source": [
        "model = Perceptron(2, 1)\n",
        "criterion = torch.nn.BCELoss()\n",
        "optimizer = torch.optim.SGD(model.parameters(), lr=0.1)"
      ]
    },
    {
      "cell_type": "code",
      "execution_count": 62,
      "id": "c96d1be7",
      "metadata": {},
      "outputs": [
        {
          "name": "stdout",
          "output_type": "stream",
          "text": [
            "Epoch [100/1000], Loss: 0.0115\n",
            "Epoch [200/1000], Loss: 0.0114\n",
            "Epoch [300/1000], Loss: 0.0112\n",
            "Epoch [400/1000], Loss: 0.0111\n",
            "Epoch [500/1000], Loss: 0.0110\n",
            "Epoch [600/1000], Loss: 0.0108\n",
            "Epoch [700/1000], Loss: 0.0107\n",
            "Epoch [800/1000], Loss: 0.0106\n",
            "Epoch [900/1000], Loss: 0.0105\n",
            "Epoch [1000/1000], Loss: 0.0103\n"
          ]
        }
      ],
      "source": [
        "num_epochs = 1000\n",
        "for epoch in range(num_epochs):\n",
        "   preds = torch.sigmoid(model(dataset))\n",
        "   loss = criterion(preds, labels)\n",
        "\n",
        "   optimizer.zero_grad()\n",
        "   loss.backward()\n",
        "   optimizer.step()\n",
        "\n",
        "   if (epoch + 1) % 100 == 0:\n",
        "      print(f'Epoch [{epoch+1}/{num_epochs}], Loss: {loss.item():.4f}')"
      ]
    },
    {
      "cell_type": "code",
      "execution_count": 63,
      "id": "fcf1a80a",
      "metadata": {},
      "outputs": [
        {
          "name": "stdout",
          "output_type": "stream",
          "text": [
            "Accuracy: 1.0000\n"
          ]
        }
      ],
      "source": [
        "preds = torch.sigmoid(model(dataset))\n",
        "preds = (preds > 0.5).float()\n",
        "accuracy = (preds == labels).float().mean()\n",
        "print(f'Accuracy: {accuracy.item():.4f}')"
      ]
    },
    {
      "cell_type": "code",
      "execution_count": null,
      "id": "c41dd7dc",
      "metadata": {},
      "outputs": [],
      "source": []
    }
  ],
  "metadata": {
    "kernel_info": {
      "name": "python"
    },
    "kernelspec": {
      "display_name": "ml",
      "language": "python",
      "name": "python3"
    },
    "language_info": {
      "codemirror_mode": {
        "name": "ipython",
        "version": 3
      },
      "file_extension": ".py",
      "mimetype": "text/x-python",
      "name": "python",
      "nbconvert_exporter": "python",
      "pygments_lexer": "ipython3",
      "version": "3.10.13"
    },
    "nteract": {
      "version": "nteract-front-end@1.0.0"
    }
  },
  "nbformat": 4,
  "nbformat_minor": 5
}
